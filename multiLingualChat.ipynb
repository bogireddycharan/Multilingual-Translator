{
 "cells": [
  {
   "cell_type": "code",
   "execution_count": 5,
   "metadata": {},
   "outputs": [
    {
     "name": "stdout",
     "output_type": "stream",
     "text": [
      "Welcome to the Multilingual Chatbot!\n",
      "Type 'exit' to end the conversation.\n",
      "\n",
      "User (en): Où es-tu?\n",
      "Chatbot (fr): Où es-tu?\n",
      "User (en): Où es-tu?\n",
      "Chatbot (fr): Où es-tu?\n",
      "Chatbot: Goodbye!\n"
     ]
    }
   ],
   "source": [
    "from transformers import AutoTokenizer, MarianMTModel\n",
    "\n",
    "src = \"fr\"  # source language\n",
    "trg = \"en\"  # target language\n",
    "\n",
    "model_name = f\"Helsinki-NLP/opus-mt-{src}-{trg}\"\n",
    "model = MarianMTModel.from_pretrained(model_name)\n",
    "tokenizer = AutoTokenizer.from_pretrained(model_name)\n",
    "\n",
    "# Function to translate text\n",
    "def translate(text, src_lang, trg_lang):\n",
    "    model_name = f\"Helsinki-NLP/opus-mt-{src_lang}-{trg_lang}\"\n",
    "    model = MarianMTModel.from_pretrained(model_name)\n",
    "    tokenizer = AutoTokenizer.from_pretrained(model_name)\n",
    "    translated = model.generate(**tokenizer(text, return_tensors=\"pt\"))\n",
    "    return [tokenizer.decode(t, skip_special_tokens=True) for t in translated]\n",
    "\n",
    "# Function to handle user input and generate translated responses\n",
    "def chat():\n",
    "    print(\"Welcome to the Multilingual Chatbot!\")\n",
    "    print(\"Type 'exit' to end the conversation.\")\n",
    "    print(\"\")\n",
    "\n",
    "    while True:\n",
    "        user_input = input(\"You ({lang}): \".format(lang=src))\n",
    "\n",
    "        if user_input.lower() == \"exit\":\n",
    "            print(\"Chatbot: Goodbye!\")\n",
    "            break\n",
    "\n",
    "        # Translate user input to target language\n",
    "        translated_input = translate([user_input], src, trg)[0]\n",
    "\n",
    "        # Generate response in target language\n",
    "        generated_ids = model.generate(**tokenizer([translated_input], return_tensors=\"pt\"))\n",
    "        translated_response = tokenizer.batch_decode(generated_ids, skip_special_tokens=True)[0]\n",
    "\n",
    "        # Translate response back to source language\n",
    "        translated_response_src = translate([translated_response], trg, src)[0]\n",
    "\n",
    "        print(\"User ({src_lang}): {user_input}\".format(src_lang=trg, user_input=user_input))\n",
    "        # Display translated response in source language\n",
    "        print(\"Chatbot ({lang}): {response}\".format(lang=src, response=translated_response_src))\n",
    "\n",
    "# Start the chat\n",
    "chat()\n"
   ]
  },
  {
   "cell_type": "markdown",
   "metadata": {},
   "source": [
    "## Auto detect"
   ]
  },
  {
   "cell_type": "code",
   "execution_count": null,
   "metadata": {},
   "outputs": [
    {
     "ename": "ModuleNotFoundError",
     "evalue": "No module named 'fasttext'",
     "output_type": "error",
     "traceback": [
      "\u001b[1;31m---------------------------------------------------------------------------\u001b[0m",
      "\u001b[1;31mModuleNotFoundError\u001b[0m                       Traceback (most recent call last)",
      "Cell \u001b[1;32mIn[4], line 2\u001b[0m\n\u001b[0;32m      1\u001b[0m \u001b[38;5;28;01mfrom\u001b[39;00m \u001b[38;5;21;01mtransformers\u001b[39;00m \u001b[38;5;28;01mimport\u001b[39;00m AutoTokenizer, MarianMTModel\n\u001b[1;32m----> 2\u001b[0m \u001b[38;5;28;01mimport\u001b[39;00m \u001b[38;5;21;01mfasttext\u001b[39;00m\n\u001b[0;32m      4\u001b[0m \u001b[38;5;66;03m# Load the language detection model\u001b[39;00m\n\u001b[0;32m      5\u001b[0m lang_detect_model \u001b[38;5;241m=\u001b[39m fasttext\u001b[38;5;241m.\u001b[39mload_model(\u001b[38;5;124m'\u001b[39m\u001b[38;5;124mlid.176.bin\u001b[39m\u001b[38;5;124m'\u001b[39m)\n",
      "\u001b[1;31mModuleNotFoundError\u001b[0m: No module named 'fasttext'"
     ]
    }
   ],
   "source": [
    "from transformers import AutoTokenizer, MarianMTModel\n",
    "import fasttext\n",
    "\n",
    "# Load the language detection model\n",
    "lang_detect_model = fasttext.load_model('lid.176.bin')\n",
    "\n",
    "def detect_language(text):\n",
    "    # Predict the language of the input text\n",
    "    prediction = lang_detect_model.predict(text)\n",
    "    # Extract the language code from the prediction\n",
    "    lang_code = prediction[0][0].split('_')[0]\n",
    "    return lang_code\n",
    "\n",
    "def translate(text, src_lang, trg_lang):\n",
    "    model_name = f\"Helsinki-NLP/opus-mt-{src_lang}-{trg_lang}\"\n",
    "    model = MarianMTModel.from_pretrained(model_name)\n",
    "    tokenizer = AutoTokenizer.from_pretrained(model_name)\n",
    "\n",
    "    batch = tokenizer([text], return_tensors=\"pt\")\n",
    "\n",
    "    generated_ids = model.generate(**batch)\n",
    "    translated_text = tokenizer.batch_decode(generated_ids, skip_special_tokens=True)[0]\n",
    "    return translated_text\n",
    "\n",
    "def auto_translate(text, trg_lang):\n",
    "    src_lang = detect_language(text)\n",
    "    translated_text = translate(text, src_lang, trg_lang)\n",
    "    return translated_text\n",
    "\n",
    "# Example usage\n",
    "text_to_translate = \"Where's the bus stop?\"\n",
    "target_language = \"fr\"  # Target language\n",
    "\n",
    "translated_text = auto_translate(text_to_translate, target_language)\n",
    "print(translated_text)\n"
   ]
  }
 ],
 "metadata": {
  "kernelspec": {
   "display_name": "Mlenv_mistral",
   "language": "python",
   "name": "python3"
  },
  "language_info": {
   "codemirror_mode": {
    "name": "ipython",
    "version": 3
   },
   "file_extension": ".py",
   "mimetype": "text/x-python",
   "name": "python",
   "nbconvert_exporter": "python",
   "pygments_lexer": "ipython3",
   "version": "3.12.2"
  }
 },
 "nbformat": 4,
 "nbformat_minor": 2
}
